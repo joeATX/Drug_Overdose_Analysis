{
 "cells": [
  {
   "cell_type": "code",
   "execution_count": 2,
   "metadata": {},
   "outputs": [],
   "source": [
    "import pandas as pd\n",
    "import numpy as np"
   ]
  },
  {
   "cell_type": "code",
   "execution_count": 3,
   "metadata": {},
   "outputs": [],
   "source": [
    "stats_df = pd.read_csv(\"data/Drug overdose.csv\")"
   ]
  },
  {
   "cell_type": "code",
   "execution_count": 4,
   "metadata": {},
   "outputs": [
    {
     "data": {
      "text/html": [
       "<div>\n",
       "<style scoped>\n",
       "    .dataframe tbody tr th:only-of-type {\n",
       "        vertical-align: middle;\n",
       "    }\n",
       "\n",
       "    .dataframe tbody tr th {\n",
       "        vertical-align: top;\n",
       "    }\n",
       "\n",
       "    .dataframe thead th {\n",
       "        text-align: right;\n",
       "    }\n",
       "</style>\n",
       "<table border=\"1\" class=\"dataframe\">\n",
       "  <thead>\n",
       "    <tr style=\"text-align: right;\">\n",
       "      <th></th>\n",
       "      <th>Sex</th>\n",
       "      <th>Race</th>\n",
       "      <th>Age</th>\n",
       "      <th>Drug Type</th>\n",
       "      <th>1999</th>\n",
       "      <th>2000</th>\n",
       "      <th>2001</th>\n",
       "      <th>2002</th>\n",
       "      <th>2003</th>\n",
       "      <th>2004</th>\n",
       "      <th>...</th>\n",
       "      <th>2010</th>\n",
       "      <th>2011</th>\n",
       "      <th>2012</th>\n",
       "      <th>2013</th>\n",
       "      <th>2014</th>\n",
       "      <th>2015</th>\n",
       "      <th>2016</th>\n",
       "      <th>2017</th>\n",
       "      <th>2018</th>\n",
       "      <th>2018\\n(single race)</th>\n",
       "    </tr>\n",
       "  </thead>\n",
       "  <tbody>\n",
       "    <tr>\n",
       "      <th>0</th>\n",
       "      <td>All</td>\n",
       "      <td>All</td>\n",
       "      <td>All ages, age adjusted</td>\n",
       "      <td>All</td>\n",
       "      <td>6.1</td>\n",
       "      <td>6.2</td>\n",
       "      <td>6.8</td>\n",
       "      <td>8.2</td>\n",
       "      <td>8.9</td>\n",
       "      <td>9.4</td>\n",
       "      <td>...</td>\n",
       "      <td>12.3</td>\n",
       "      <td>13.2</td>\n",
       "      <td>13.1</td>\n",
       "      <td>13.8</td>\n",
       "      <td>14.7</td>\n",
       "      <td>16.3</td>\n",
       "      <td>19.8</td>\n",
       "      <td>21.7</td>\n",
       "      <td>- - -</td>\n",
       "      <td>20.7</td>\n",
       "    </tr>\n",
       "    <tr>\n",
       "      <th>1</th>\n",
       "      <td>All</td>\n",
       "      <td>All</td>\n",
       "      <td>All ages, crude</td>\n",
       "      <td>All</td>\n",
       "      <td>6.0</td>\n",
       "      <td>6.2</td>\n",
       "      <td>6.8</td>\n",
       "      <td>8.2</td>\n",
       "      <td>8.9</td>\n",
       "      <td>9.4</td>\n",
       "      <td>...</td>\n",
       "      <td>12.4</td>\n",
       "      <td>13.3</td>\n",
       "      <td>13.2</td>\n",
       "      <td>13.9</td>\n",
       "      <td>14.8</td>\n",
       "      <td>16.3</td>\n",
       "      <td>19.7</td>\n",
       "      <td>21.6</td>\n",
       "      <td>- - -</td>\n",
       "      <td>20.6</td>\n",
       "    </tr>\n",
       "    <tr>\n",
       "      <th>2</th>\n",
       "      <td>All</td>\n",
       "      <td>All</td>\n",
       "      <td>Under 15 years</td>\n",
       "      <td>All</td>\n",
       "      <td>0.1</td>\n",
       "      <td>0.1</td>\n",
       "      <td>0.2</td>\n",
       "      <td>0.2</td>\n",
       "      <td>0.2</td>\n",
       "      <td>0.2</td>\n",
       "      <td>...</td>\n",
       "      <td>0.2</td>\n",
       "      <td>0.2</td>\n",
       "      <td>0.2</td>\n",
       "      <td>0.2</td>\n",
       "      <td>0.2</td>\n",
       "      <td>0.2</td>\n",
       "      <td>0.2</td>\n",
       "      <td>0.2</td>\n",
       "      <td>- - -</td>\n",
       "      <td>0.2</td>\n",
       "    </tr>\n",
       "    <tr>\n",
       "      <th>3</th>\n",
       "      <td>All</td>\n",
       "      <td>All</td>\n",
       "      <td>15–24 years</td>\n",
       "      <td>All</td>\n",
       "      <td>3.2</td>\n",
       "      <td>3.7</td>\n",
       "      <td>4.2</td>\n",
       "      <td>5.1</td>\n",
       "      <td>6.0</td>\n",
       "      <td>6.6</td>\n",
       "      <td>...</td>\n",
       "      <td>8.2</td>\n",
       "      <td>8.6</td>\n",
       "      <td>8.0</td>\n",
       "      <td>8.3</td>\n",
       "      <td>8.6</td>\n",
       "      <td>9.7</td>\n",
       "      <td>12.4</td>\n",
       "      <td>12.6</td>\n",
       "      <td>- - -</td>\n",
       "      <td>10.8</td>\n",
       "    </tr>\n",
       "    <tr>\n",
       "      <th>4</th>\n",
       "      <td>All</td>\n",
       "      <td>All</td>\n",
       "      <td>25–34 years</td>\n",
       "      <td>All</td>\n",
       "      <td>8.1</td>\n",
       "      <td>7.9</td>\n",
       "      <td>8.6</td>\n",
       "      <td>10.5</td>\n",
       "      <td>11.4</td>\n",
       "      <td>11.9</td>\n",
       "      <td>...</td>\n",
       "      <td>18.4</td>\n",
       "      <td>20.2</td>\n",
       "      <td>20.1</td>\n",
       "      <td>20.9</td>\n",
       "      <td>23.1</td>\n",
       "      <td>26.9</td>\n",
       "      <td>34.6</td>\n",
       "      <td>38.4</td>\n",
       "      <td>- - -</td>\n",
       "      <td>35.5</td>\n",
       "    </tr>\n",
       "  </tbody>\n",
       "</table>\n",
       "<p>5 rows × 25 columns</p>\n",
       "</div>"
      ],
      "text/plain": [
       "   Sex Race                     Age Drug Type 1999 2000 2001  2002  2003  \\\n",
       "0  All  All  All ages, age adjusted       All  6.1  6.2  6.8   8.2   8.9   \n",
       "1  All  All         All ages, crude       All  6.0  6.2  6.8   8.2   8.9   \n",
       "2  All  All          Under 15 years       All  0.1  0.1  0.2   0.2   0.2   \n",
       "3  All  All             15–24 years       All  3.2  3.7  4.2   5.1   6.0   \n",
       "4  All  All             25–34 years       All  8.1  7.9  8.6  10.5  11.4   \n",
       "\n",
       "   2004  ...  2010  2011  2012  2013  2014  2015  2016  2017   2018  \\\n",
       "0   9.4  ...  12.3  13.2  13.1  13.8  14.7  16.3  19.8  21.7  - - -   \n",
       "1   9.4  ...  12.4  13.3  13.2  13.9  14.8  16.3  19.7  21.6  - - -   \n",
       "2   0.2  ...   0.2   0.2   0.2   0.2   0.2   0.2   0.2   0.2  - - -   \n",
       "3   6.6  ...   8.2   8.6   8.0   8.3   8.6   9.7  12.4  12.6  - - -   \n",
       "4  11.9  ...  18.4  20.2  20.1  20.9  23.1  26.9  34.6  38.4  - - -   \n",
       "\n",
       "  2018\\n(single race)  \n",
       "0                20.7  \n",
       "1                20.6  \n",
       "2                 0.2  \n",
       "3                10.8  \n",
       "4                35.5  \n",
       "\n",
       "[5 rows x 25 columns]"
      ]
     },
     "execution_count": 4,
     "metadata": {},
     "output_type": "execute_result"
    }
   ],
   "source": [
    "stats_df.head()"
   ]
  },
  {
   "cell_type": "code",
   "execution_count": 5,
   "metadata": {},
   "outputs": [
    {
     "data": {
      "text/plain": [
       "Sex\n",
       "Male      132\n",
       "Female    132\n",
       "All        66\n",
       "Name: count, dtype: int64"
      ]
     },
     "execution_count": 5,
     "metadata": {},
     "output_type": "execute_result"
    }
   ],
   "source": [
    "stats_df['Sex'].value_counts()"
   ]
  },
  {
   "cell_type": "code",
   "execution_count": 6,
   "metadata": {},
   "outputs": [
    {
     "data": {
      "text/plain": [
       "(330, 25)"
      ]
     },
     "execution_count": 6,
     "metadata": {},
     "output_type": "execute_result"
    }
   ],
   "source": [
    "stats_df.shape"
   ]
  },
  {
   "cell_type": "code",
   "execution_count": 7,
   "metadata": {},
   "outputs": [
    {
     "data": {
      "text/plain": [
       "Index(['Sex', 'Race', 'Age', 'Drug Type', '1999', '2000', '2001', '2002',\n",
       "       '2003', '2004', '2005', '2006', '2007', '2008', '2009', '2010', '2011',\n",
       "       '2012', '2013', '2014', '2015', '2016', '2017', '2018',\n",
       "       '2018\\n(single race)'],\n",
       "      dtype='object')"
      ]
     },
     "execution_count": 7,
     "metadata": {},
     "output_type": "execute_result"
    }
   ],
   "source": [
    "stats_df.columns"
   ]
  },
  {
   "cell_type": "code",
   "execution_count": 8,
   "metadata": {},
   "outputs": [
    {
     "data": {
      "text/plain": [
       "array(['All', 'Opioid', 'natural/semisynthetic opioids', 'methadone',\n",
       "       'synthetic opioids other than methadone', 'heroin'], dtype=object)"
      ]
     },
     "execution_count": 8,
     "metadata": {},
     "output_type": "execute_result"
    }
   ],
   "source": [
    "stats_df['Drug Type'].unique()"
   ]
  },
  {
   "cell_type": "code",
   "execution_count": null,
   "metadata": {},
   "outputs": [],
   "source": []
  }
 ],
 "metadata": {
  "kernelspec": {
   "display_name": "Python 3",
   "language": "python",
   "name": "python3"
  },
  "language_info": {
   "codemirror_mode": {
    "name": "ipython",
    "version": 3
   },
   "file_extension": ".py",
   "mimetype": "text/x-python",
   "name": "python",
   "nbconvert_exporter": "python",
   "pygments_lexer": "ipython3",
   "version": "3.8.10"
  }
 },
 "nbformat": 4,
 "nbformat_minor": 2
}
